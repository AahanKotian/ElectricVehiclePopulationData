{
 "cells": [
  {
   "cell_type": "code",
   "execution_count": 2,
   "id": "310583f3",
   "metadata": {},
   "outputs": [],
   "source": [
    "import pandas as pd\n",
    "import matplotlib.pyplot as plt\n",
    "import seaborn as sns\n",
    "\n",
    "\n",
    "# Load the dataset into a DataFrame\n",
    "df = pd.read_csv('ElectricVehiclePopulationData.csv')  # Replace 'ElectricVehiclePopulationData.csv' with the path to your dataset file"
   ]
  },
  {
   "cell_type": "code",
   "execution_count": 3,
   "id": "a0ddd9bb",
   "metadata": {},
   "outputs": [
    {
     "name": "stdout",
     "output_type": "stream",
     "text": [
      "   VIN (1-10)     County          City State  Postal Code  Model Year  \\\n",
      "0  5UXKT0C59G     Yakima        Zillah    WA      98953.0        2016   \n",
      "1  5YJ3E1EA2J  Snohomish       Edmonds    WA      98020.0        2018   \n",
      "2  1G1RE6E4XE     Kitsap  Port Orchard    WA      98367.0        2014   \n",
      "3  2C4RC1L76M     Skagit           Bow    WA      98232.0        2021   \n",
      "4  5YJ3E1EA2J   Thurston       Olympia    WA      98513.0        2018   \n",
      "\n",
      "        Make     Model                   Electric Vehicle Type  \\\n",
      "0        BMW        X5  Plug-in Hybrid Electric Vehicle (PHEV)   \n",
      "1      TESLA   MODEL 3          Battery Electric Vehicle (BEV)   \n",
      "2  CHEVROLET      VOLT  Plug-in Hybrid Electric Vehicle (PHEV)   \n",
      "3   CHRYSLER  PACIFICA  Plug-in Hybrid Electric Vehicle (PHEV)   \n",
      "4      TESLA   MODEL 3          Battery Electric Vehicle (BEV)   \n",
      "\n",
      "  Clean Alternative Fuel Vehicle (CAFV) Eligibility  Electric Range  \\\n",
      "0             Not eligible due to low battery range            14.0   \n",
      "1           Clean Alternative Fuel Vehicle Eligible           215.0   \n",
      "2           Clean Alternative Fuel Vehicle Eligible            38.0   \n",
      "3           Clean Alternative Fuel Vehicle Eligible            32.0   \n",
      "4           Clean Alternative Fuel Vehicle Eligible           215.0   \n",
      "\n",
      "   Base MSRP  Legislative District  DOL Vehicle ID  \\\n",
      "0        0.0                  15.0       206822717   \n",
      "1        0.0                  21.0       137721636   \n",
      "2        0.0                  26.0       197718468   \n",
      "3        0.0                  40.0       256274308   \n",
      "4        0.0                   2.0       259176578   \n",
      "\n",
      "                 Vehicle Location        Electric Utility  2020 Census Tract  \n",
      "0     POINT (-120.26317 46.40556)              PACIFICORP       5.307700e+10  \n",
      "1     POINT (-122.37507 47.80807)  PUGET SOUND ENERGY INC       5.306105e+10  \n",
      "2   POINT (-122.6847073 47.50524)  PUGET SOUND ENERGY INC       5.303509e+10  \n",
      "3  POINT (-122.440636 48.5613885)  PUGET SOUND ENERGY INC       5.305795e+10  \n",
      "4    POINT (-122.817545 46.98876)  PUGET SOUND ENERGY INC       5.306701e+10  \n"
     ]
    }
   ],
   "source": [
    "# Display the first few rows of the DataFrame\n",
    "print(df.head())\n"
   ]
  },
  {
   "cell_type": "code",
   "execution_count": 4,
   "id": "9987e59e",
   "metadata": {},
   "outputs": [
    {
     "name": "stdout",
     "output_type": "stream",
     "text": [
      "<class 'pandas.core.frame.DataFrame'>\n",
      "RangeIndex: 173533 entries, 0 to 173532\n",
      "Data columns (total 17 columns):\n",
      " #   Column                                             Non-Null Count   Dtype  \n",
      "---  ------                                             --------------   -----  \n",
      " 0   VIN (1-10)                                         173533 non-null  object \n",
      " 1   County                                             173528 non-null  object \n",
      " 2   City                                               173528 non-null  object \n",
      " 3   State                                              173533 non-null  object \n",
      " 4   Postal Code                                        173528 non-null  float64\n",
      " 5   Model Year                                         173533 non-null  int64  \n",
      " 6   Make                                               173533 non-null  object \n",
      " 7   Model                                              173533 non-null  object \n",
      " 8   Electric Vehicle Type                              173533 non-null  object \n",
      " 9   Clean Alternative Fuel Vehicle (CAFV) Eligibility  173533 non-null  object \n",
      " 10  Electric Range                                     173532 non-null  float64\n",
      " 11  Base MSRP                                          173532 non-null  float64\n",
      " 12  Legislative District                               173157 non-null  float64\n",
      " 13  DOL Vehicle ID                                     173533 non-null  int64  \n",
      " 14  Vehicle Location                                   173523 non-null  object \n",
      " 15  Electric Utility                                   173528 non-null  object \n",
      " 16  2020 Census Tract                                  173528 non-null  float64\n",
      "dtypes: float64(5), int64(2), object(10)\n",
      "memory usage: 22.5+ MB\n",
      "None\n"
     ]
    }
   ],
   "source": [
    "# Display column names and data types\n",
    "print(df.info())\n"
   ]
  },
  {
   "cell_type": "code",
   "execution_count": 5,
   "id": "131ab709",
   "metadata": {},
   "outputs": [
    {
     "name": "stdout",
     "output_type": "stream",
     "text": [
      "Total Electric Vehicles: 173533\n"
     ]
    }
   ],
   "source": [
    "# Count the total number of electric vehicles\n",
    "total_electric_vehicles = df.shape[0]\n",
    "print(\"Total Electric Vehicles:\", total_electric_vehicles)\n"
   ]
  },
  {
   "cell_type": "code",
   "execution_count": 7,
   "id": "7e1becd6",
   "metadata": {},
   "outputs": [
    {
     "name": "stdout",
     "output_type": "stream",
     "text": [
      "Total Counties: 193\n",
      "Total Cities: 710\n"
     ]
    }
   ],
   "source": [
    "# Count the number of unique cities and counties\n",
    "total_counties = df['County'].nunique()\n",
    "total_cities = df['City'].nunique()\n",
    "print(\"Total Counties:\", total_counties)\n",
    "print(\"Total Cities:\", total_cities)\n"
   ]
  },
  {
   "cell_type": "code",
   "execution_count": 8,
   "id": "1858cc7a",
   "metadata": {},
   "outputs": [
    {
     "name": "stdout",
     "output_type": "stream",
     "text": [
      "Distribution of Electric Vehicle Types:\n",
      "Electric Vehicle Type\n",
      "Battery Electric Vehicle (BEV)            135617\n",
      "Plug-in Hybrid Electric Vehicle (PHEV)     37916\n",
      "Name: count, dtype: int64\n"
     ]
    }
   ],
   "source": [
    "# Analyze the distribution of electric vehicle types\n",
    "vehicle_type_counts = df['Electric Vehicle Type'].value_counts()\n",
    "print(\"Distribution of Electric Vehicle Types:\")\n",
    "print(vehicle_type_counts)\n"
   ]
  },
  {
   "cell_type": "code",
   "execution_count": 10,
   "id": "654f1255",
   "metadata": {},
   "outputs": [],
   "source": [
    "# Calculate average electric range by model year\n",
    "avg_range_by_year = df.groupby('Model Year')['Electric Range'].mean()"
   ]
  },
  {
   "cell_type": "code",
   "execution_count": 11,
   "id": "a21679d9",
   "metadata": {},
   "outputs": [],
   "source": [
    "# Identify the top electric vehicle makes\n",
    "top_makes = df['Make'].value_counts().head(10)"
   ]
  },
  {
   "cell_type": "code",
   "execution_count": 12,
   "id": "21b8f69f",
   "metadata": {},
   "outputs": [],
   "source": [
    "# Analyze electric vehicle registrations by legislative district\n",
    "registration_by_district = df['Legislative District'].value_counts()"
   ]
  },
  {
   "cell_type": "code",
   "execution_count": 14,
   "id": "6fbf01c3",
   "metadata": {},
   "outputs": [
    {
     "data": {
      "image/png": "[encoded data removed]",
      "text/plain": [
       "<Figure size 800x600 with 1 Axes>"
      ]
     },
     "metadata": {},
     "output_type": "display_data"
    }
   ],
   "source": [
    "# Plot distribution of electric vehicle types\n",
    "plt.figure(figsize=(8, 6))\n",
    "sns.countplot(data=df, x='Electric Vehicle Type')\n",
    "plt.title('Distribution of Electric Vehicle Types')\n",
    "plt.xlabel('Electric Vehicle Type')\n",
    "plt.ylabel('Count')\n",
    "plt.show()\n",
    "\n",
    "#BEVs take up the vast majority of EVs."
   ]
  },
  {
   "cell_type": "code",
   "execution_count": 36,
   "id": "7129fb93",
   "metadata": {
    "scrolled": true
   },
   "outputs": [
    {
     "data": {
      "image/png": "[encoded data removed]",
      "text/plain": [
       "<Figure size 1000x600 with 1 Axes>"
      ]
     },
     "metadata": {},
     "output_type": "display_data"
    }
   ],
   "source": [
    "# Group the data by model year and count the number of electric vehicles in each year\n",
    "ev_counts_by_year = df['Model Year'].value_counts().sort_index()\n",
    "\n",
    "# Plot the data as a line graph\n",
    "plt.figure(figsize=(10, 6))\n",
    "plt.plot(ev_counts_by_year.index, ev_counts_by_year.values, marker='o', linestyle='-')\n",
    "plt.title('Number of Electric Vehicles Registered by Year')\n",
    "plt.xlabel('Year')\n",
    "plt.ylabel('Number of Electric Vehicles')\n",
    "plt.grid(True)\n",
    "plt.show()\n",
    "\n",
    "#According to this graph, the amount of electric vehicles registered in Washington State has gone up steadily until 2020,\n",
    "#The year with the highest amount of registrations is 2023 where more than 50,000 EVs were registered."
   ]
  },
  {
   "cell_type": "code",
   "execution_count": 16,
   "id": "160c4fa2",
   "metadata": {},
   "outputs": [
    {
     "name": "stdout",
     "output_type": "stream",
     "text": [
      "Number of unique makes: 40\n"
     ]
    }
   ],
   "source": [
    "# Count the number of unique makes\n",
    "unique_makes = df['Make'].nunique()\n",
    "\n",
    "print(\"Number of unique makes:\", unique_makes)"
   ]
  },
  {
   "cell_type": "code",
   "execution_count": 18,
   "id": "5875a88d",
   "metadata": {},
   "outputs": [
    {
     "name": "stdout",
     "output_type": "stream",
     "text": [
      "Top 10 most common makes:\n",
      "Make\n",
      "TESLA         77805\n",
      "NISSAN        14005\n",
      "CHEVROLET     13486\n",
      "FORD           8914\n",
      "BMW            7465\n",
      "KIA            7251\n",
      "TOYOTA         6060\n",
      "VOLKSWAGEN     4886\n",
      "JEEP           4343\n",
      "HYUNDAI        4252\n",
      "Name: count, dtype: int64\n"
     ]
    }
   ],
   "source": [
    "# Calculate the top 10 most common makes\n",
    "top_makes = df['Make'].value_counts().head(10)\n",
    "\n",
    "print(\"Top 10 most common makes:\")\n",
    "print(top_makes)\n",
    "\n",
    "#Unsurprisingly, out of the 173533 electric vehicles in Washington State, 77805 were made by Tesla owned by Elon Musk."
   ]
  },
  {
   "cell_type": "code",
   "execution_count": 20,
   "id": "ef9518fd",
   "metadata": {},
   "outputs": [
    {
     "name": "stdout",
     "output_type": "stream",
     "text": [
      "Number of unique models: 139\n"
     ]
    }
   ],
   "source": [
    "# Count the number of unique makes\n",
    "unique_models = df['Model'].nunique()\n",
    "\n",
    "print(\"Number of unique models:\", unique_models)"
   ]
  },
  {
   "cell_type": "code",
   "execution_count": 21,
   "id": "36819908",
   "metadata": {},
   "outputs": [
    {
     "name": "stdout",
     "output_type": "stream",
     "text": [
      "Top 10 most common models:\n",
      "Model\n",
      "MODEL Y           34521\n",
      "MODEL 3           29856\n",
      "LEAF              13401\n",
      "MODEL S            7741\n",
      "BOLT EV            6656\n",
      "MODEL X            5640\n",
      "VOLT               4846\n",
      "ID.4               3819\n",
      "WRANGLER           3286\n",
      "MUSTANG MACH-E     3274\n",
      "Name: count, dtype: int64\n"
     ]
    }
   ],
   "source": [
    "# Calculate the top 10 most common makes\n",
    "top_models = df['Model'].value_counts().head(10)\n",
    "\n",
    "print(\"Top 10 most common models:\")\n",
    "print(top_models)\n",
    "\n",
    "#The most common model is MODEL Y at 34521 EVs."
   ]
  },
  {
   "cell_type": "code",
   "execution_count": 33,
   "id": "058258b8",
   "metadata": {},
   "outputs": [
    {
     "name": "stdout",
     "output_type": "stream",
     "text": [
      "Number of unique electric utility providers in Washington State: 76\n"
     ]
    }
   ],
   "source": [
    "# Get unique Electric Utility values\n",
    "unique_electric_utilities = df['Electric Utility'].nunique()\n",
    "\n",
    "print(\"Number of unique electric utility providers in Washington State:\", unique_electric_utilities)"
   ]
  },
  {
   "cell_type": "code",
   "execution_count": 27,
   "id": "81679bf2",
   "metadata": {},
   "outputs": [
    {
     "name": "stdout",
     "output_type": "stream",
     "text": [
      "Top 10 most common electric utilities:\n",
      "Electric Utility\n",
      "PUGET SOUND ENERGY INC||CITY OF TACOMA - (WA)                                      64141\n",
      "PUGET SOUND ENERGY INC                                                             34995\n",
      "CITY OF SEATTLE - (WA)|CITY OF TACOMA - (WA)                                       30734\n",
      "BONNEVILLE POWER ADMINISTRATION||PUD NO 1 OF CLARK COUNTY - (WA)                    9921\n",
      "BONNEVILLE POWER ADMINISTRATION||CITY OF TACOMA - (WA)||PENINSULA LIGHT COMPANY     7665\n",
      "PUGET SOUND ENERGY INC||PUD NO 1 OF WHATCOM COUNTY                                  3905\n",
      "BONNEVILLE POWER ADMINISTRATION||AVISTA CORP||INLAND POWER & LIGHT COMPANY          2715\n",
      "BONNEVILLE POWER ADMINISTRATION||PUD 1 OF SNOHOMISH COUNTY                          1519\n",
      "PACIFICORP                                                                          1280\n",
      "BONNEVILLE POWER ADMINISTRATION||PUD NO 1 OF BENTON COUNTY                          1217\n",
      "Name: count, dtype: int64\n"
     ]
    }
   ],
   "source": [
    "# Calculate the top 10 most common makes\n",
    "top_electric_utilities = df['Electric Utility'].value_counts().head(10)\n",
    "\n",
    "print(\"Top 10 most common electric utilities:\")\n",
    "print(top_electric_utilities)"
   ]
  },
  {
   "cell_type": "code",
   "execution_count": 28,
   "id": "2464732e",
   "metadata": {},
   "outputs": [
    {
     "name": "stdout",
     "output_type": "stream",
     "text": [
      "County and City with the most electric vehicles:\n",
      "    County     City  EV_Count\n",
      "275   King  Seattle     28856\n"
     ]
    }
   ],
   "source": [
    "# Group by county and city, then count the number of electric vehicles in each\n",
    "county_city_counts = df.groupby(['County', 'City']).size().reset_index(name='EV_Count')\n",
    "\n",
    "# Find the county and city with the highest number of electric vehicles\n",
    "max_ev_count = county_city_counts['EV_Count'].max()\n",
    "max_ev_location = county_city_counts[county_city_counts['EV_Count'] == max_ev_count]\n",
    "\n",
    "print(\"County and City with the most electric vehicles:\")\n",
    "print(max_ev_location)\n",
    "\n",
    "#Understandibly, the city with the highest amount of electricle vehicles is Seattle in King County, with an EV count of 28856"
   ]
  },
  {
   "cell_type": "code",
   "execution_count": 32,
   "id": "cdcb22ce",
   "metadata": {},
   "outputs": [
    {
     "name": "stdout",
     "output_type": "stream",
     "text": [
      "Electric Range Statistics:\n",
      "count    173532.000000\n",
      "mean         60.148002\n",
      "std          92.644038\n",
      "min           0.000000\n",
      "25%           0.000000\n",
      "50%           0.000000\n",
      "75%          83.000000\n",
      "max         337.000000\n",
      "Name: Electric Range, dtype: float64\n"
     ]
    }
   ],
   "source": [
    "# Get descriptive statistics of electric range\n",
    "electric_range_stats = df['Electric Range'].describe()\n",
    "\n",
    "print(\"Electric Range Statistics:\")\n",
    "print(electric_range_stats)\n",
    "\n",
    "#The greatest electrical range would be 337 while the average electrical range for a vehicle would be 60.148002."
   ]
  },
  {
   "cell_type": "code",
   "execution_count": null,
   "id": "ae0d71cb",
   "metadata": {},
   "outputs": [],
   "source": []
  }
 ],
 "metadata": {
  "kernelspec": {
   "display_name": "Python 3 (ipykernel)",
   "language": "python",
   "name": "python3"
  },
  "language_info": {
   "codemirror_mode": {
    "name": "ipython",
    "version": 3
   },
   "file_extension": ".py",
   "mimetype": "text/x-python",
   "name": "python",
   "nbconvert_exporter": "python",
   "pygments_lexer": "ipython3",
   "version": "3.9.13"
  }
 },
 "nbformat": 4,
 "nbformat_minor": 5
}
